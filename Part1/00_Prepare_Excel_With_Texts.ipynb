{
  "nbformat": 4,
  "nbformat_minor": 0,
  "metadata": {
    "colab": {
      "provenance": []
    },
    "kernelspec": {
      "name": "python3",
      "display_name": "Python 3"
    },
    "language_info": {
      "name": "python"
    }
  },
  "cells": [
    {
      "cell_type": "markdown",
      "source": [
        "## Import libraries"
      ],
      "metadata": {
        "id": "wO3jsYb9IfZ7"
      }
    },
    {
      "cell_type": "code",
      "source": [
        "!pip install PyPDF2\n",
        "!pip install xlsxwriter\n",
        "!pip install nltk"
      ],
      "metadata": {
        "id": "VmOqD6dAIhMb"
      },
      "execution_count": null,
      "outputs": []
    },
    {
      "cell_type": "code",
      "source": [
        "import pandas as pd\n",
        "from google.colab import drive\n",
        "import os\n",
        "import IPython\n",
        "import PyPDF2\n",
        "import shutil\n",
        "from PyPDF2 import PdfReader\n",
        "import nltk\n",
        "nltk.download('punkt')\n",
        "from nltk.tokenize import word_tokenize"
      ],
      "metadata": {
        "id": "zOJPtFRiIkId"
      },
      "execution_count": null,
      "outputs": []
    },
    {
      "cell_type": "markdown",
      "source": [
        "## Connect with drive"
      ],
      "metadata": {
        "id": "EvtWcoVuImZz"
      }
    },
    {
      "cell_type": "code",
      "source": [
        "# Mount Google Drive\n",
        "drive.mount('/content/drive')"
      ],
      "metadata": {
        "id": "vb2aBOcAIlP7"
      },
      "execution_count": null,
      "outputs": []
    },
    {
      "cell_type": "markdown",
      "source": [
        "## Create folder"
      ],
      "metadata": {
        "id": "00To1I0UIsL9"
      }
    },
    {
      "cell_type": "code",
      "source": [
        "# Define the folder path in your Google Drive\n",
        "general_path= '/content/drive/My Drive/TrabajoWater/Archivos'\n",
        "\n",
        "# Check if the folder exists, if not, create it\n",
        "if not os.path.exists(general_path):\n",
        "    os.makedirs(general_path)\n",
        "    print(\"Folder was created\")"
      ],
      "metadata": {
        "id": "K8kYh_IhIthz"
      },
      "execution_count": null,
      "outputs": []
    },
    {
      "cell_type": "markdown",
      "source": [
        "## Extract text from pdf - Full paper"
      ],
      "metadata": {
        "id": "DgObfHLUIvYI"
      }
    },
    {
      "cell_type": "code",
      "source": [
        "# Function to extract text from PDF files\n",
        "def extract_text_from_pdf(pdf_path):\n",
        "    text = ''\n",
        "    with open(pdf_path, 'rb') as file:\n",
        "        reader = PdfReader(file, strict=False)\n",
        "        for page in reader.pages:\n",
        "            text += page.extract_text()\n",
        "    return text"
      ],
      "metadata": {
        "id": "1cqplzOJIv8u"
      },
      "execution_count": null,
      "outputs": []
    },
    {
      "cell_type": "code",
      "source": [
        "def extract_REFERENCES_from_pdf(pdf_path):\n",
        "    with open(pdf_path, 'rb') as file:\n",
        "        reader = PdfReader(file)\n",
        "        num_pages = len(reader.pages)\n",
        "\n",
        "        # Initialize variables\n",
        "        references_text = \"\"\n",
        "        references_found = False\n",
        "\n",
        "        # Loop through each page\n",
        "        for page_num in range(num_pages):\n",
        "            page = reader.pages[page_num]\n",
        "            page_text = page.extract_text()\n",
        "\n",
        "            # Check if \"REFERENCES\" is in the page text\n",
        "            if \"REFERENCES\" in page_text:\n",
        "                references_found = True\n",
        "\n",
        "                # Append the content starting from \"REFERENCES\" to the result\n",
        "                references_index = page_text.find(\"REFERENCES\")\n",
        "                references_text += page_text[references_index:]\n",
        "\n",
        "                # Append text from subsequent pages\n",
        "                for next_page_num in range(page_num + 1, num_pages):\n",
        "                    next_page = reader.pages[next_page_num]\n",
        "                    next_page_text = next_page.extract_text()\n",
        "                    references_text += next_page_text\n",
        "\n",
        "                # No need to process further pages, break the loop\n",
        "                break\n",
        "        print(references_text.strip())\n",
        "        return references_text.strip()"
      ],
      "metadata": {
        "id": "56ITBLIGIxF0"
      },
      "execution_count": null,
      "outputs": []
    },
    {
      "cell_type": "code",
      "source": [
        "# Array to store text from all files\n",
        "texts = []\n",
        "titles = []\n",
        "\n",
        "# Folder with the pdf files\n",
        "path_with_pdfs = os.path.join(general_path)\n",
        "\n",
        "# Loop through each file in the folder\n",
        "for filename in os.listdir(path_with_pdfs):\n",
        "    file_path = os.path.join(path_with_pdfs, filename)\n",
        "\n",
        "\n",
        "\n",
        "    try:\n",
        "      # Check if the file is a PDF\n",
        "      if filename.endswith('.pdf'):\n",
        "          text = extract_text_from_pdf(file_path\n",
        "\n",
        "          print(f\"Title: {filename}\")\n",
        "\n",
        "          references_text = extract_REFERENCES_from_pdf(file_path)\n",
        "\n",
        "          # Remove REFERENCES text from main text\n",
        "          if references_text:\n",
        "              print(references_text)\n",
        "              text = text.replace(references_text, '')\n",
        "\n",
        "          # Update the texts list with the modified text\n",
        "          texts.append(text)\n",
        "          titles.append(filename)\n",
        "          print(\"=\"*50)\n",
        "    except:\n",
        "      continue"
      ],
      "metadata": {
        "id": "VOIDeezUIyR-"
      },
      "execution_count": null,
      "outputs": []
    },
    {
      "cell_type": "code",
      "source": [
        "df = pd.DataFrame({'FullText': texts,'Title': titles})"
      ],
      "metadata": {
        "id": "D_jGMvq8I1_a"
      },
      "execution_count": null,
      "outputs": []
    },
    {
      "cell_type": "code",
      "source": [
        "df.head()"
      ],
      "metadata": {
        "id": "PE21_Za2I2Ug"
      },
      "execution_count": null,
      "outputs": []
    },
    {
      "cell_type": "code",
      "source": [
        "df.to_csv(general_path, \"archivos.csv\", escapechar=\"\\\\\")"
      ],
      "metadata": {
        "id": "1BqPXLx2I3KB"
      },
      "execution_count": null,
      "outputs": []
    }
  ]
}